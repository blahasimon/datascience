{
 "cells": [
  {
   "cell_type": "markdown",
   "source": [
    "# Method 4"
   ],
   "metadata": {
    "collapsed": false
   }
  },
  {
   "cell_type": "code",
   "execution_count": 59,
   "outputs": [],
   "source": [
    "import numpy as np\n",
    "import pandas as pd\n",
    "import matplotlib.pyplot as plt\n",
    "import nn\n",
    "import time"
   ],
   "metadata": {
    "collapsed": false
   }
  },
  {
   "cell_type": "code",
   "execution_count": 45,
   "outputs": [],
   "source": [
    "def word_to_vector(word: str, substrings: list) -> np.array:\n",
    "    array = np.zeros(len(substrings))\n",
    "    lst = []\n",
    "    for i, alph in enumerate(substrings):\n",
    "        lst.append(word.count(alph))\n",
    "    return np.array(lst)\n",
    "\n",
    "CZ_ALPHABET = ['a', 'á', 'b', 'c', 'č', 'd', 'ď',\n",
    "               'e', 'é', 'ě', 'f', 'g', 'h', 'ch',\n",
    "               'i', 'í', 'j', 'k', 'l', 'm', 'n',\n",
    "               'ň', 'o', 'ó', 'p', 'q', 'r', 'ř',\n",
    "               's', 'š', 't', 'ť', 'u', 'ú','ů',\n",
    "               'v', 'w', 'x', 'y', 'ý','z', 'ž', ' ']\n",
    "\n",
    "SUBSTRINGS = CZ_ALPHABET"
   ],
   "metadata": {
    "collapsed": false
   }
  },
  {
   "cell_type": "code",
   "execution_count": 46,
   "outputs": [],
   "source": [
    "data = pd.read_csv('data.csv', encoding = 'ansi', usecols=['Obec', 'Kraj'])\n",
    "data = data[data['Obec'] != 'Praha']\n",
    "\n",
    "data['Obec'] = data['Obec'].str.lower()\n",
    "data['food'] = data['Obec'].apply(lambda x: word_to_vector(x, SUBSTRINGS))\n",
    "data['food'] = data['food'].apply(lambda x: x / np.linalg.norm(x))\n",
    "\n",
    "LIST_KRAJE = np.sort(data['Kraj'].unique().tolist())\n",
    "data['expected'] = data['Kraj'].apply(lambda x: word_to_vector(x, LIST_KRAJE))"
   ],
   "metadata": {
    "collapsed": false
   }
  },
  {
   "cell_type": "code",
   "execution_count": 75,
   "outputs": [
    {
     "ename": "AttributeError",
     "evalue": "'NeuralNetwork' object has no attribute 'train'",
     "output_type": "error",
     "traceback": [
      "\u001B[1;31m---------------------------------------------------------------------------\u001B[0m",
      "\u001B[1;31mAttributeError\u001B[0m                            Traceback (most recent call last)",
      "Cell \u001B[1;32mIn [75], line 9\u001B[0m\n\u001B[0;32m      5\u001B[0m neural_network \u001B[38;5;241m=\u001B[39m nn\u001B[38;5;241m.\u001B[39mNeuralNetwork(shape\u001B[38;5;241m=\u001B[39mNETWORK_SHAPE, act_funcs\u001B[38;5;241m=\u001B[39mACT_FUNCS, eta\u001B[38;5;241m=\u001B[39mETA)\n\u001B[0;32m      7\u001B[0m N_EPOCHS \u001B[38;5;241m=\u001B[39m \u001B[38;5;241m2\u001B[39m\n\u001B[1;32m----> 9\u001B[0m costs \u001B[38;5;241m=\u001B[39m \u001B[43mneural_network\u001B[49m\u001B[38;5;241;43m.\u001B[39;49m\u001B[43mtrain\u001B[49m(df\u001B[38;5;241m=\u001B[39mdata[[\u001B[38;5;124m'\u001B[39m\u001B[38;5;124mfood\u001B[39m\u001B[38;5;124m'\u001B[39m, \u001B[38;5;124m'\u001B[39m\u001B[38;5;124mexpected\u001B[39m\u001B[38;5;124m'\u001B[39m]], n_epochs\u001B[38;5;241m=\u001B[39mN_EPOCHS)\n",
      "\u001B[1;31mAttributeError\u001B[0m: 'NeuralNetwork' object has no attribute 'train'"
     ]
    }
   ],
   "source": [
    "NETWORK_SHAPE = (len(SUBSTRINGS), 25, len(LIST_KRAJE))\n",
    "ACT_FUNCS = [nn.sigmoid, nn.sigmoid]\n",
    "ETA = 0.01\n",
    "\n",
    "neural_network = nn.NeuralNetwork(shape=NETWORK_SHAPE, act_funcs=ACT_FUNCS, eta=ETA)\n",
    "\n",
    "N_EPOCHS = 2\n",
    "\n",
    "costs = neural_network.train(df=data[['food', 'expected']], n_epochs=N_EPOCHS)"
   ],
   "metadata": {
    "collapsed": false
   }
  },
  {
   "cell_type": "code",
   "execution_count": 49,
   "outputs": [
    {
     "data": {
      "text/plain": "1"
     },
     "execution_count": 49,
     "metadata": {},
     "output_type": "execute_result"
    }
   ],
   "source": [
    "np.argmin(_)"
   ],
   "metadata": {
    "collapsed": false
   }
  }
 ],
 "metadata": {
  "kernelspec": {
   "display_name": "Python 3",
   "language": "python",
   "name": "python3"
  },
  "language_info": {
   "codemirror_mode": {
    "name": "ipython",
    "version": 2
   },
   "file_extension": ".py",
   "mimetype": "text/x-python",
   "name": "python",
   "nbconvert_exporter": "python",
   "pygments_lexer": "ipython2",
   "version": "2.7.6"
  }
 },
 "nbformat": 4,
 "nbformat_minor": 0
}
