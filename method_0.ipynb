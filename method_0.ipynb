{
 "cells": [
  {
   "cell_type": "markdown",
   "source": [
    "# Method 0"
   ],
   "metadata": {
    "collapsed": false
   }
  },
  {
   "cell_type": "code",
   "execution_count": 24,
   "outputs": [],
   "source": [
    "import numpy as np\n",
    "import pandas as pd\n",
    "\n",
    "data = pd.read_csv('data.csv', encoding = 'ansi', usecols=['Obec', 'Kraj'])\n",
    "list_kraje = np.sort(data['Kraj'].unique())\n",
    "\n",
    "def predict(obec: str):\n",
    "    # ooga booga\n",
    "    print(f'Obec {obec} se nachází v následujícím kraji:', list_kraje[np.random.randint(14)])"
   ],
   "metadata": {
    "collapsed": false
   }
  },
  {
   "cell_type": "code",
   "execution_count": 25,
   "outputs": [
    {
     "name": "stdout",
     "output_type": "stream",
     "text": [
      "Obec Olomouc se nachází v následujícím kraji: Středočeský kraj\n"
     ]
    }
   ],
   "source": [
    "predict(obec='Olomouc')"
   ],
   "metadata": {
    "collapsed": false
   }
  }
 ],
 "metadata": {
  "kernelspec": {
   "display_name": "Python 3",
   "language": "python",
   "name": "python3"
  },
  "language_info": {
   "codemirror_mode": {
    "name": "ipython",
    "version": 2
   },
   "file_extension": ".py",
   "mimetype": "text/x-python",
   "name": "python",
   "nbconvert_exporter": "python",
   "pygments_lexer": "ipython2",
   "version": "2.7.6"
  }
 },
 "nbformat": 4,
 "nbformat_minor": 0
}
